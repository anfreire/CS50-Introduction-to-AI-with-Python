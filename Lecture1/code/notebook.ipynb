{
 "cells": [
  {
   "cell_type": "code",
   "execution_count": null,
   "metadata": {},
   "outputs": [],
   "source": []
  }
 ],
 "metadata": {
  "kernelspec": {
   "display_name": "AI",
   "language": "python",
   "name": "python3"
  },
  "language_info": {
   "name": "python",
   "version": "3.10.7"
  },
  "orig_nbformat": 4,
  "vscode": {
   "interpreter": {
    "hash": "0f726b57d72a23ba0cb46fd8dc00237be859fc056aec39bc13de1dc7d5d1fd03"
   }
  }
 },
 "nbformat": 4,
 "nbformat_minor": 2
}
